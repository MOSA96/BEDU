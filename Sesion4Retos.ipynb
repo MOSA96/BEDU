{
 "cells": [
  {
   "cell_type": "code",
   "execution_count": null,
   "metadata": {},
   "outputs": [],
   "source": [
    "from pymongo import MongoClient"
   ]
  },
  {
   "cell_type": "markdown",
   "metadata": {},
   "source": [
    "### RETO 1 \n"
   ]
  },
  {
   "cell_type": "markdown",
   "metadata": {},
   "source": [
    "### Fecha, nombre y texto de cada comentario."
   ]
  },
  {
   "cell_type": "code",
   "execution_count": null,
   "metadata": {},
   "outputs": [],
   "source": [
    "\n",
    "client = MongoClient('mongodb://Alfredo:<password>!@cluster0-shard-00-00.kdmah.mongodb.net:27017,cluster0-shard-00-01.kdmah.mongodb.net:27017,cluster0-shard-00-02.kdmah.mongodb.net:27017/<dbname>?authSource=admin&replicaSet=atlas-jbxthp-shard-0&w=majority&readPreference=primary&appname=MongoDB%20Compass&retryWrites=true&ssl=true')\n",
    "filter={}\n",
    "project={\n",
    "    'date': 1, \n",
    "    'name': 1, \n",
    "    'text': 1\n",
    "}\n",
    "\n",
    "result = client['sample_mflix']['comments'].find(\n",
    "  filter=filter,\n",
    "  projection=project\n",
    ")"
   ]
  },
  {
   "cell_type": "markdown",
   "metadata": {},
   "source": [
    "###  Título, elenco y año de cada película."
   ]
  },
  {
   "cell_type": "code",
   "execution_count": null,
   "metadata": {},
   "outputs": [],
   "source": [
    "client = MongoClient('mongodb://Alfredo:<password>@cluster0-shard-00-00.kdmah.mongodb.net:27017,cluster0-shard-00-01.kdmah.mongodb.net:27017,cluster0-shard-00-02.kdmah.mongodb.net:27017/<dbname>?authSource=admin&replicaSet=atlas-jbxthp-shard-0&w=majority&readPreference=primary&appname=MongoDB%20Compass&retryWrites=true&ssl=true')\n",
    "filter={}\n",
    "project={\n",
    "    'title': 1, \n",
    "    'cast': 1, \n",
    "    'year': 1\n",
    "}\n",
    "\n",
    "result = client['sample_mflix']['movies'].find(\n",
    "  filter=filter,\n",
    "  projection=project\n",
    ")"
   ]
  },
  {
   "cell_type": "markdown",
   "metadata": {},
   "source": [
    "### Nombre y contraseña de cada usuario."
   ]
  },
  {
   "cell_type": "code",
   "execution_count": null,
   "metadata": {},
   "outputs": [],
   "source": [
    "client = MongoClient('mongodb://Alfredo:<password>@cluster0-shard-00-00.kdmah.mongodb.net:27017,cluster0-shard-00-01.kdmah.mongodb.net:27017,cluster0-shard-00-02.kdmah.mongodb.net:27017/<dbname>?authSource=admin&replicaSet=atlas-jbxthp-shard-0&w=majority&readPreference=primary&appname=MongoDB%20Compass&retryWrites=true&ssl=true')\n",
    "filter={}\n",
    "project={\n",
    "    'name': 1, \n",
    "    'password': 1\n",
    "}\n",
    "\n",
    "result = client['sample_mflix']['users'].find(\n",
    "  filter=filter,\n",
    "  projection=project\n",
    ")"
   ]
  },
  {
   "cell_type": "markdown",
   "metadata": {},
   "source": []
  },
  {
   "cell_type": "markdown",
   "metadata": {},
   "source": [
    "### Reto 2\n"
   ]
  },
  {
   "cell_type": "markdown",
   "metadata": {},
   "source": [
    "### ¿Qué comentarios ha hecho Greg Powell?"
   ]
  },
  {
   "cell_type": "code",
   "execution_count": null,
   "metadata": {},
   "outputs": [],
   "source": [
    "client = MongoClient('mongodb://Alfredo:<password>@cluster0-shard-00-00.kdmah.mongodb.net:27017,cluster0-shard-00-01.kdmah.mongodb.net:27017,cluster0-shard-00-02.kdmah.mongodb.net:27017/<dbname>?authSource=admin&replicaSet=atlas-jbxthp-shard-0&w=majority&readPreference=primary&appname=MongoDB%20Compass&retryWrites=true&ssl=true')\n",
    "filter={\n",
    "    'name': 'Greg Powell'\n",
    "}\n",
    "\n",
    "result = client['sample_mflix']['comments'].find(\n",
    "  filter=filter\n",
    ")"
   ]
  },
  {
   "cell_type": "markdown",
   "metadata": {},
   "source": [
    "### ¿Qué comentarios han hecho Greg Powell o Mercedes Tyler?"
   ]
  },
  {
   "cell_type": "code",
   "execution_count": null,
   "metadata": {},
   "outputs": [],
   "source": [
    "client = MongoClient('mongodb://Alfredo:<password>@cluster0-shard-00-00.kdmah.mongodb.net:27017,cluster0-shard-00-01.kdmah.mongodb.net:27017,cluster0-shard-00-02.kdmah.mongodb.net:27017/<dbname>?authSource=admin&replicaSet=atlas-jbxthp-shard-0&w=majority&readPreference=primary&appname=MongoDB%20Compass&retryWrites=true&ssl=true')\n",
    "filter={\n",
    "    '$or': [\n",
    "        {\n",
    "            'name': 'Greg Powell'\n",
    "        }, {\n",
    "            'name': 'Mercedes Tyler'\n",
    "        }\n",
    "    ]\n",
    "}\n",
    "\n",
    "result = client['sample_mflix']['comments'].find(\n",
    "  filter=filter\n",
    ")"
   ]
  },
  {
   "cell_type": "markdown",
   "metadata": {},
   "source": [
    "### ¿Cuál es el máximo número de comentarios en una película?"
   ]
  },
  {
   "cell_type": "code",
   "execution_count": null,
   "metadata": {},
   "outputs": [],
   "source": [
    "client = MongoClient('mongodb://Alfredo:<password>@cluster0-shard-00-00.kdmah.mongodb.net:27017,cluster0-shard-00-01.kdmah.mongodb.net:27017,cluster0-shard-00-02.kdmah.mongodb.net:27017/<dbname>?authSource=admin&replicaSet=atlas-jbxthp-shard-0&w=majority&readPreference=primary&appname=MongoDB%20Compass&retryWrites=true&ssl=true')\n",
    "filter={}\n",
    "project={\n",
    "    'num_mflix_comments': 1\n",
    "}\n",
    "sort=list({\n",
    "    'num_mflix_comments': -1\n",
    "}.items())\n",
    "\n",
    "result = client['sample_mflix']['movies'].find(\n",
    "  filter=filter,\n",
    "  projection=project,\n",
    "  sort=sort\n",
    ")"
   ]
  },
  {
   "cell_type": "markdown",
   "metadata": {},
   "source": [
    "### ¿Cuál es título de las cinco películas más comentadas?"
   ]
  },
  {
   "cell_type": "code",
   "execution_count": null,
   "metadata": {},
   "outputs": [],
   "source": [
    "client = MongoClient('mongodb://Alfredo:<password>@cluster0-shard-00-00.kdmah.mongodb.net:27017,cluster0-shard-00-01.kdmah.mongodb.net:27017,cluster0-shard-00-02.kdmah.mongodb.net:27017/<dbname>?authSource=admin&replicaSet=atlas-jbxthp-shard-0&w=majority&readPreference=primary&appname=MongoDB%20Compass&retryWrites=true&ssl=true')\n",
    "filter={}\n",
    "project={\n",
    "    'title': 1\n",
    "}\n",
    "sort=list({\n",
    "    'num_mflix_comments': -1\n",
    "}.items())\n",
    "\n",
    "result = client['sample_mflix']['movies'].find(\n",
    "  filter=filter,\n",
    "  projection=project,\n",
    "  sort=sort\n",
    ")"
   ]
  }
 ],
 "metadata": {
  "kernelspec": {
   "display_name": "Python 3",
   "language": "python",
   "name": "python3"
  },
  "language_info": {
   "codemirror_mode": {
    "name": "ipython",
    "version": 3
   },
   "file_extension": ".py",
   "mimetype": "text/x-python",
   "name": "python",
   "nbconvert_exporter": "python",
   "pygments_lexer": "ipython3",
   "version": "3.8.3"
  }
 },
 "nbformat": 4,
 "nbformat_minor": 4
}
